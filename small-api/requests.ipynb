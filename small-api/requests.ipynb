{
 "cells": [
  {
   "cell_type": "code",
   "execution_count": 1,
   "metadata": {},
   "outputs": [],
   "source": [
    "import requests\n",
    "link = \"http://127.0.0.1:7070/insert-into-employees\""
   ]
  },
  {
   "cell_type": "code",
   "execution_count": null,
   "metadata": {},
   "outputs": [],
   "source": [
    "params = {\n",
    "    \"emp_no\": 10000,\n",
    "    \"birth_date\": \"1953-09-02\",\n",
    "    \"first_name\": \"Nerea\",\n",
    "    \"last_name\": \"Crack\",\n",
    "    \"gender\": \"F\",\n",
    "    \"hire_date\": \"1986-06-26\"\n",
    "}\n",
    "\n",
    "requests.post(\"http://127.0.0.1:7070/insert-into-employees\", params = params)"
   ]
  },
  {
   "cell_type": "code",
   "execution_count": null,
   "metadata": {},
   "outputs": [],
   "source": [
    "requests.post(link, params = my_dict_)"
   ]
  }
 ],
 "metadata": {
  "kernelspec": {
   "display_name": "ironhack",
   "language": "python",
   "name": "python3"
  },
  "language_info": {
   "codemirror_mode": {
    "name": "ipython",
    "version": 3
   },
   "file_extension": ".py",
   "mimetype": "text/x-python",
   "name": "python",
   "nbconvert_exporter": "python",
   "pygments_lexer": "ipython3",
   "version": "3.9.12"
  },
  "orig_nbformat": 4,
  "vscode": {
   "interpreter": {
    "hash": "7fe6e4abe040b5c364a40a89fd7a24ea328d6ee431c9defd9e77f577f5678583"
   }
  }
 },
 "nbformat": 4,
 "nbformat_minor": 2
}
