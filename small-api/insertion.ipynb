{
 "cells": [
  {
   "cell_type": "code",
   "execution_count": 1,
   "id": "9f1a3c06",
   "metadata": {},
   "outputs": [],
   "source": [
    "\n",
    "import requests"
   ]
  },
  {
   "cell_type": "code",
   "execution_count": 2,
   "id": "0ff10e9a",
   "metadata": {},
   "outputs": [
    {
     "data": {
      "text/plain": [
       "<Response [200]>"
      ]
     },
     "execution_count": 2,
     "metadata": {},
     "output_type": "execute_result"
    }
   ],
   "source": [
    "requests.get(\"http://127.0.0.1:9000/\")"
   ]
  },
  {
   "cell_type": "code",
   "execution_count": 6,
   "id": "fb397490",
   "metadata": {},
   "outputs": [],
   "source": [
    "params={\n",
    "    'emp_no': 986142,\n",
    "    'birth_date': '2001-01-01',\n",
    "    'first_name': 'Pepe',\n",
    "    'last_name': 'Botella',\n",
    "    'gender': 'M',\n",
    "    'hire_date': '2009-03-03'\n",
    "    }"
   ]
  },
  {
   "cell_type": "code",
   "execution_count": 7,
   "id": "413d9619",
   "metadata": {},
   "outputs": [
    {
     "data": {
      "text/plain": [
       "<Response [200]>"
      ]
     },
     "execution_count": 7,
     "metadata": {},
     "output_type": "execute_result"
    }
   ],
   "source": [
    "requests.post(\"http://127.0.0.1:9000/insert-into-employees\", params = params)"
   ]
  },
  {
   "cell_type": "code",
   "execution_count": 19,
   "id": "e1dd5506",
   "metadata": {},
   "outputs": [],
   "source": [
    "params={\n",
    "    'dept_no': 'd011',\n",
    "    'dept_name': 'Killers',\n",
    "    }"
   ]
  },
  {
   "cell_type": "code",
   "execution_count": 20,
   "id": "ad77b950",
   "metadata": {},
   "outputs": [
    {
     "data": {
      "text/plain": [
       "<Response [200]>"
      ]
     },
     "execution_count": 20,
     "metadata": {},
     "output_type": "execute_result"
    }
   ],
   "source": [
    "requests.post(\"http://127.0.0.1:9000/insert-departments\", params = params)"
   ]
  },
  {
   "cell_type": "code",
   "execution_count": null,
   "id": "6abdb23f",
   "metadata": {},
   "outputs": [],
   "source": []
  }
 ],
 "metadata": {
  "kernelspec": {
   "display_name": "ironhack",
   "language": "python",
   "name": "ironhack"
  },
  "language_info": {
   "codemirror_mode": {
    "name": "ipython",
    "version": 3
   },
   "file_extension": ".py",
   "mimetype": "text/x-python",
   "name": "python",
   "nbconvert_exporter": "python",
   "pygments_lexer": "ipython3",
   "version": "3.9.15"
  },
  "toc": {
   "base_numbering": 1,
   "nav_menu": {},
   "number_sections": true,
   "sideBar": true,
   "skip_h1_title": false,
   "title_cell": "Table of Contents",
   "title_sidebar": "Contents",
   "toc_cell": false,
   "toc_position": {},
   "toc_section_display": true,
   "toc_window_display": false
  }
 },
 "nbformat": 4,
 "nbformat_minor": 5
}
