{
 "cells": [
  {
   "cell_type": "code",
   "execution_count": 15,
   "id": "52ba67f0-7f3d-474a-96b3-5aa410a57853",
   "metadata": {},
   "outputs": [
    {
     "data": {
      "text/plain": [
       "<Response [200]>"
      ]
     },
     "execution_count": 15,
     "metadata": {},
     "output_type": "execute_result"
    }
   ],
   "source": [
    "import requests\n",
    "my_params = { \n",
    "    'emp_no' : 12000,\n",
    "    'birth_date': '1994-12-15',\n",
    "    'first_name': 'Graham',\n",
    "    'last_name' : 'Clark',\n",
    "    'gender' : 'M',\n",
    "    'hire_date' : '2023-02-12'\n",
    "}\n",
    "\n",
    "requests.post(\"http://127.0.0.1:16278/insert-into-employees\", params = my_params)"
   ]
  },
  {
   "cell_type": "code",
   "execution_count": null,
   "id": "4b5a7815-dd80-431a-92b3-bba01cdf2edc",
   "metadata": {},
   "outputs": [],
   "source": []
  }
 ],
 "metadata": {
  "kernelspec": {
   "display_name": "ironhack",
   "language": "python",
   "name": "ironhack"
  },
  "language_info": {
   "codemirror_mode": {
    "name": "ipython",
    "version": 3
   },
   "file_extension": ".py",
   "mimetype": "text/x-python",
   "name": "python",
   "nbconvert_exporter": "python",
   "pygments_lexer": "ipython3",
   "version": "3.10.4"
  }
 },
 "nbformat": 4,
 "nbformat_minor": 5
}
